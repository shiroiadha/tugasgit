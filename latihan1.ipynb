{
 "cells": [
  {
   "cell_type": "code",
   "execution_count": 1,
   "metadata": {},
   "outputs": [],
   "source": [
    "data_panen = {\n",
    "    'lokasi1': {\n",
    "        'nama_lokasi': 'Kebun A',\n",
    "        'hasil_panen': {\n",
    "            'padi': 1200,\n",
    "            'jagung': 800,\n",
    "            'kedelai': 500\n",
    "        }\n",
    "    },\n",
    "    'lokasi2': {\n",
    "        'nama_lokasi': 'Kebun B',\n",
    "        'hasil_panen': {\n",
    "            'padi': 1500,\n",
    "            'jagung': 900,\n",
    "            'kedelai': 450\n",
    "        }\n",
    "    },\n",
    "    'lokasi3': {\n",
    "        'nama_lokasi': 'Kebun C',\n",
    "        'hasil_panen': {\n",
    "            'padi': 1100,\n",
    "            'jagung': 750,\n",
    "            'kedelai': 600\n",
    "        }\n",
    "    },\n",
    "    'lokasi4': {\n",
    "        'nama_lokasi': 'Kebun D',\n",
    "        'hasil_panen': {\n",
    "            'padi': 1300,\n",
    "            'jagung': 850,\n",
    "            'kedelai': 550\n",
    "        }\n",
    "    },\n",
    "    'lokasi5': {\n",
    "        'nama_lokasi': 'Kebun E',\n",
    "        'hasil_panen': {\n",
    "            'padi': 1400,\n",
    "            'jagung': 950,\n",
    "            'kedelai': 480\n",
    "        }\n",
    "    }\n",
    "}"
   ]
  },
  {
   "cell_type": "code",
   "execution_count": 2,
   "metadata": {},
   "outputs": [
    {
     "name": "stdout",
     "output_type": "stream",
     "text": [
      "Soal ke-1\n",
      "Lokasi: Kebun A\n",
      "padi: 1200\n",
      "jagung: 800\n",
      "kedelai: 500\n",
      "\n",
      "Lokasi: Kebun B\n",
      "padi: 1500\n",
      "jagung: 900\n",
      "kedelai: 450\n",
      "\n",
      "Lokasi: Kebun C\n",
      "padi: 1100\n",
      "jagung: 750\n",
      "kedelai: 600\n",
      "\n",
      "Lokasi: Kebun D\n",
      "padi: 1300\n",
      "jagung: 850\n",
      "kedelai: 550\n",
      "\n",
      "Lokasi: Kebun E\n",
      "padi: 1400\n",
      "jagung: 950\n",
      "kedelai: 480\n",
      "\n"
     ]
    }
   ],
   "source": [
    "print(\"Soal ke-1\")\n",
    "for lokasi, info in data_panen.items():\n",
    "    print(f\"Lokasi: {info['nama_lokasi']}\")\n",
    "    for buah, jumlah in info['hasil_panen'].items():\n",
    "        print(f\"{buah}: {jumlah}\")\n",
    "    print(\"\")"
   ]
  },
  {
   "cell_type": "code",
   "execution_count": 3,
   "metadata": {},
   "outputs": [
    {
     "name": "stdout",
     "output_type": "stream",
     "text": [
      "Soal ke-2\n",
      "Jumlah jagung yang terpanen di lokasi ke-2: 900\n"
     ]
    }
   ],
   "source": [
    "print(\"Soal ke-2\")\n",
    "data_panen_jagung_lk2 = data_panen['lokasi2']['hasil_panen']['jagung']\n",
    "print(f\"Jumlah jagung yang terpanen di lokasi ke-2: {data_panen_jagung_lk2}\")"
   ]
  },
  {
   "cell_type": "code",
   "execution_count": 4,
   "metadata": {},
   "outputs": [
    {
     "name": "stdout",
     "output_type": "stream",
     "text": [
      "Soal ke-3\n",
      "Nama lokasi panen ke-3: Kebun C\n"
     ]
    }
   ],
   "source": [
    "print(\"Soal ke-3\")\n",
    "nama_lk3 = data_panen['lokasi3']['nama_lokasi']\n",
    "print(f\"Nama lokasi panen ke-3: {nama_lk3}\")"
   ]
  },
  {
   "cell_type": "code",
   "execution_count": 5,
   "metadata": {},
   "outputs": [
    {
     "name": "stdout",
     "output_type": "stream",
     "text": [
      "Soal ke-4\n",
      "Data panen padi: [1200, 1500, 1100, 1300, 1400]\n",
      "Data panen kedelai: [500, 450, 600, 550, 480]\n"
     ]
    }
   ],
   "source": [
    "print(\"Soal ke-4\")\n",
    "data_panen_padi = []\n",
    "data_panen_kedelai = []\n",
    "\n",
    "for lokasi, info in data_panen.items():\n",
    "    for panen, jumlah in info['hasil_panen'].items():\n",
    "        if panen == 'padi':\n",
    "            data_panen_padi.append(jumlah)\n",
    "        elif panen == 'kedelai':\n",
    "            data_panen_kedelai.append(jumlah)\n",
    "\n",
    "print(f\"Data panen padi: {data_panen_padi}\")\n",
    "print(f\"Data panen kedelai: {data_panen_kedelai}\")"
   ]
  },
  {
   "cell_type": "code",
   "execution_count": 6,
   "metadata": {},
   "outputs": [],
   "source": [
    "print(\"Soal ke-5\")\n",
    "\n",
    "jumlah_padi = sum(data_panen_padi)\n",
    "jumlah_kedelai = sum(data_panen_kedelai)\n",
    "\n",
    "print(f\"Jumlah padi yang terpanen: {jumlah_padi}\")\n",
    "print(f\"Jumlah kedelai yang terpanen: {jumlah_kedelai}\")"
   ]
  },
  {
   "cell_type": "code",
   "execution_count": 7,
   "metadata": {},
   "outputs": [
    {
     "name": "stdout",
     "output_type": "stream",
     "text": [
      "Soal ke-6\n",
      "Lokasi Kebun A dalam kondisi baik\n",
      "Lokasi Kebun B  memerlukan perhatian khusus\n",
      "Lokasi Kebun C dalam kondisi baik\n",
      "Lokasi Kebun D  memerlukan perhatian khusus\n",
      "Lokasi Kebun E  memerlukan perhatian khusus\n"
     ]
    }
   ],
   "source": [
    "print(\"Soal ke-6\")\n",
    "for lokasi, info in data_panen.items():\n",
    "    if info['hasil_panen']['padi'] > 1300 or info['hasil_panen']['jagung'] > 800:\n",
    "        print(f\"Lokasi {info['nama_lokasi']}  memerlukan perhatian khusus\")\n",
    "    else:\n",
    "        print(f\"Lokasi {info['nama_lokasi']} dalam kondisi baik\")"
   ]
  }
 ],
 "metadata": {
  "kernelspec": {
   "display_name": "Testing",
   "language": "python",
   "name": "python3"
  },
  "language_info": {
   "codemirror_mode": {
    "name": "ipython",
    "version": 3
   },
   "file_extension": ".py",
   "mimetype": "text/x-python",
   "name": "python",
   "nbconvert_exporter": "python",
   "pygments_lexer": "ipython3",
   "version": "3.11.2"
  }
 },
 "nbformat": 4,
 "nbformat_minor": 2
}
